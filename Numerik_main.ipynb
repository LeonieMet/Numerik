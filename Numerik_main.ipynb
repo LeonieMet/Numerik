{
 "cells": [
  {
   "cell_type": "markdown",
   "id": "f83a432b",
   "metadata": {},
   "source": [
    "# Projekt: Wärmeleitung"
   ]
  },
  {
   "cell_type": "markdown",
   "id": "c3de642b",
   "metadata": {},
   "source": [
    "### Initialisierung"
   ]
  },
  {
   "cell_type": "code",
   "execution_count": 5,
   "id": "f98f601a",
   "metadata": {},
   "outputs": [],
   "source": [
    "import numpy as np\n",
    "import scipy\n",
    "from scipy.sparse import lil_matrix\n",
    "from scipy.sparse import coo_matrix\n",
    "from scipy.sparse import spdiags\n",
    "from scipy.sparse.linalg import spsolve\n",
    "factorial = np.vectorize(np.math.factorial)\n",
    "\n",
    "#funktion: factorial, np.vectorize"
   ]
  },
  {
   "cell_type": "markdown",
   "id": "4c686977",
   "metadata": {},
   "source": [
    "## Aufgabe 1"
   ]
  },
  {
   "cell_type": "code",
   "execution_count": 28,
   "id": "ffa9de99",
   "metadata": {},
   "outputs": [],
   "source": [
    "n = 3 #Anzahl Elemente in 1\n",
    "n_dach = 1 #Anzahl der zusätzlichen Auswertungspunkte je Element in 1\n",
    "n_schlange = 7 #Ordnung der Quadratur in 1\n",
    "n_p = 100 #Anzahl der Zeitschritte in 1\n",
    "beta = 1/4 # Newmark-Koeffizient in 1\n",
    "gamma = 1/2 #Newmark-Koeffizient in 1\n",
    "eta = 0.1 # Zeitschrittweite in s\n",
    "l = 1 #Länge des Balken in m\n",
    "µ = 1 #Längenspezifsche Masse in kg/m\n",
    "E = 1 #Elastizitätsmodul in N/m²\n",
    "I = 1 #Flächenträgheitsmoment in m^4\n",
    "q = 1 #Streckenast in N/m\n",
    "\n",
    "B = np.array([[0,1,0],[0,2,0],[n,3,0],[n,4,0]])"
   ]
  },
  {
   "cell_type": "markdown",
   "id": "0bc4528c",
   "metadata": {},
   "source": [
    "## Aufgabe 2"
   ]
  },
  {
   "cell_type": "markdown",
   "id": "4f6cdf88",
   "metadata": {},
   "source": [
    "#### keine Loops und ifs, kein sparse Format, erzeugen von nützlichen Array mit verschiedenen Indizes. Schreibe eine Funktion getindizes"
   ]
  },
  {
   "cell_type": "markdown",
   "id": "a83dc80d",
   "metadata": {},
   "source": [
    "#### a) "
   ]
  },
  {
   "cell_type": "code",
   "execution_count": 61,
   "id": "b1edb572",
   "metadata": {},
   "outputs": [],
   "source": [
    "def getindex_a(n):\n",
    "    m = n+1\n",
    "    m1 = np.arange(0,m)\n",
    "    m2 = np.arange(0,n)\n",
    "    m3 = np.arange(0,m)\n",
    "    M1, M2, M3= np.meshgrid(m1,m2,m3)\n",
    "    M4 = np.zeros((n,m,m)) \n",
    "    #1. anzahl matrizen, 2. anzahl spalten, 3. anzahl reihen\n",
    "    M5 = np.zeros((n,m,m)) \n",
    "    M4 = 2*M2+M1\n",
    "    M5 = 2*M2+M3\n",
    "    return(M2,M1,M3,M4,M5)"
   ]
  },
  {
   "cell_type": "code",
   "execution_count": 63,
   "id": "22d41806",
   "metadata": {},
   "outputs": [],
   "source": [
    "getindex_a(n)"
   ]
  },
  {
   "cell_type": "code",
   "execution_count": 110,
   "id": "04c5cf44",
   "metadata": {},
   "outputs": [],
   "source": [
    "def getindex_b(n):\n",
    "    m = n+1\n",
    "    m1 = np.arange(0,m) #anzhal zeilen\n",
    "    m2 = np.arange(0,n) #anzahl matrizen\n",
    "    m3 = [0] #anzahl spalten\n",
    "    M1, M2,M3 = np.meshgrid(m1,m2,m3)\n",
    "    M4 = np.zeros((n,m,1)) #((marizen,zeilen,spalten))\n",
    "    M4 = 2*M2+M1\n",
    "    return(M2,M1,M4)"
   ]
  },
  {
   "cell_type": "code",
   "execution_count": 113,
   "id": "c9d254c6",
   "metadata": {},
   "outputs": [],
   "source": [
    "getindex_b(n);"
   ]
  },
  {
   "cell_type": "markdown",
   "id": "0157006d",
   "metadata": {},
   "source": [
    "## Aufgabe 3"
   ]
  },
  {
   "cell_type": "markdown",
   "id": "d960a78a",
   "metadata": {},
   "source": [
    "#### einfach abschreiben Funktionen getMbar, getSbar, getqbar"
   ]
  },
  {
   "cell_type": "code",
   "execution_count": 24,
   "id": "6be60e77",
   "metadata": {},
   "outputs": [],
   "source": [
    "def getMbar(µ,h):\n",
    "    M_ = (µ*h/420)*np.array(\n",
    "        [[156, 22*h,54,(-13*h)],\n",
    "        [(22*h),(4*h**2),(13*h),(-3*h**2)],\n",
    "        [54,(13*h),156,(-22*h)],\n",
    "         [(-13*h),(-3*h**2),(-22*h),(4*h**2)]])\n",
    "    return(M_)"
   ]
  },
  {
   "cell_type": "code",
   "execution_count": 160,
   "id": "b9c9fbbe",
   "metadata": {},
   "outputs": [],
   "source": [
    "def getSbar(E,I,h):\n",
    "    S_ = (E*I/h**3)*np.array(\n",
    "    [[12,(6*h),(-12),(6*h)],\n",
    "    [(6*h),(4*h**2),(-6*h),(2*h**2)],\n",
    "     [(-12),(-6*h),12,(-6*h)],\n",
    "    [(6*h),(2*h**2),(-6*h),(4*h**2)]])\n",
    "    return(S_)"
   ]
  },
  {
   "cell_type": "code",
   "execution_count": 82,
   "id": "57abc2a7",
   "metadata": {},
   "outputs": [],
   "source": [
    "def getqbar(q,h):\n",
    "    q_ = (q*h/12)*np.array([[6],\n",
    "                           [h],\n",
    "                           [6],\n",
    "                           [-h]])\n",
    "    return(q_)"
   ]
  },
  {
   "cell_type": "markdown",
   "id": "1d6fce2b",
   "metadata": {},
   "source": [
    "## Aufgabe 4"
   ]
  },
  {
   "cell_type": "markdown",
   "id": "8d2ff7a8",
   "metadata": {},
   "source": [
    "#### Funktionen so anpassen, das sie Elementmatrizen in Form eine 3D-Arrays ausgibt.\n",
    "\n",
    "a)"
   ]
  },
  {
   "cell_type": "code",
   "execution_count": 25,
   "id": "08ffbf90",
   "metadata": {},
   "outputs": [],
   "source": [
    "def getMbar_mod(µ,h,n):\n",
    "    M_ = getMbar(µ,h)\n",
    "    m = n+1\n",
    "    M_l = np.zeros((n,m,m))\n",
    "    M_l[:] = M_\n",
    "    return(M_l)"
   ]
  },
  {
   "cell_type": "markdown",
   "id": "efb7091d",
   "metadata": {},
   "source": [
    "#### \n",
    "b)"
   ]
  },
  {
   "cell_type": "code",
   "execution_count": 161,
   "id": "9b06f8ae",
   "metadata": {},
   "outputs": [],
   "source": [
    "def getSbar_mod(E,I,h,n):\n",
    "    m = n+1\n",
    "    S_ = getSbar(E,I,n)\n",
    "    S_l = np.zeros((n,m,m))\n",
    "    S_l[:] = S_\n",
    "    return(S_l)\n",
    "#getSbar_mod(E,I,1,n)"
   ]
  },
  {
   "cell_type": "markdown",
   "id": "21b96222",
   "metadata": {},
   "source": [
    "#### \n",
    "c)"
   ]
  },
  {
   "cell_type": "code",
   "execution_count": 165,
   "id": "1eb794fe",
   "metadata": {},
   "outputs": [],
   "source": [
    "def getqbar_mod(q,h):\n",
    "    m = n+1\n",
    "    q_l = np.zeros((n,m,1))\n",
    "    q_ = getqbar(q,h)\n",
    "    q_l[:] = q_\n",
    "    return(q_l)"
   ]
  },
  {
   "cell_type": "markdown",
   "id": "05f91ed7",
   "metadata": {},
   "source": [
    "## Aufgabe 5"
   ]
  },
  {
   "cell_type": "markdown",
   "id": "af7f9435",
   "metadata": {},
   "source": [
    "#### ab hier sparse und scipy und NICHT mehr numpy!"
   ]
  },
  {
   "cell_type": "markdown",
   "id": "50c863d3",
   "metadata": {},
   "source": [
    "## Fragen: \n",
    "- aus Elementmatrix der vorherigen Aufgabe, warum brauche ich die? Warum kann ich nicht die einfache M nehmen?"
   ]
  },
  {
   "cell_type": "code",
   "execution_count": 19,
   "id": "843af86b",
   "metadata": {},
   "outputs": [],
   "source": [
    "import warnings\n",
    "\n",
    "# Ignore all warnings globally, scipy.arange gibts irgendwann nicht mehr und wir sollen np verwenden aber tutor sagt nein\n",
    "warnings.filterwarnings(\"ignore\")"
   ]
  },
  {
   "cell_type": "markdown",
   "id": "39da8541",
   "metadata": {},
   "source": [
    "#### \n",
    "a)"
   ]
  },
  {
   "cell_type": "code",
   "execution_count": 98,
   "id": "1c369f2a",
   "metadata": {},
   "outputs": [],
   "source": [
    "def getM(n):\n",
    "    m = n+1\n",
    "    A = lil_matrix(2*m, 2*m)\n",
    "    i = scipy.arange(0,2*m)\n",
    "    j = scipy.arange(0,2*m)\n",
    "    i_ = scipy.arange(0,m)\n",
    "    j_ = scipy.arange(0,m)\n",
    "    M = lil_matrix(m,m)\n",
    "    M = getMbar(µ,h = 1)\n",
    "    L = scipy.arange(0,n)\n",
    "    for l in L:\n",
    "        for val in i_:\n",
    "            i = 2*l + val\n",
    "            for val_ in j_:\n",
    "                j = 2*l + val_\n",
    "                A[i, j] = A[i,j] + M[val,val_]\n",
    "                A = A.tocsr()\n",
    "    return(A)"
   ]
  },
  {
   "cell_type": "markdown",
   "id": "a3f8821d",
   "metadata": {},
   "source": [
    "#### \n",
    "\n",
    "b)\n"
   ]
  },
  {
   "cell_type": "code",
   "execution_count": 99,
   "id": "a6680f5a",
   "metadata": {},
   "outputs": [],
   "source": [
    "def getS(n):\n",
    "    m = n+1\n",
    "    A = lil_matrix(2*m, 2*m)\n",
    "    i = scipy.arange(0,2*m)\n",
    "    j = scipy.arange(0,2*m)\n",
    "    i_ = scipy.arange(0,m)\n",
    "    j_ = scipy.arange(0,m)\n",
    "    M = lil_matrix(m,m)\n",
    "    S = getSbar(E,I,n)\n",
    "    L = scipy.arange(0,n)\n",
    "    for l in L:\n",
    "        for val in i_:\n",
    "            i = 2*l + val\n",
    "            for val_ in j_:\n",
    "                j = 2*l + val_\n",
    "                A[i, j] = A[i,j] + S[val,val_]\n",
    "                A = A.tocsr()\n",
    "\n",
    "    return(A)"
   ]
  },
  {
   "cell_type": "markdown",
   "id": "f472799b",
   "metadata": {},
   "source": [
    "#### \n",
    "\n",
    "c)"
   ]
  },
  {
   "cell_type": "code",
   "execution_count": 101,
   "id": "0b1bc86f",
   "metadata": {},
   "outputs": [],
   "source": [
    "def getvq(n):\n",
    "    m = n+1\n",
    "    A = lil_matrix((2*m,1)) #muss das scipy.sparse.coo_matrix sein oder kann das auch lil_matrix sein?\n",
    "    j = scipy.arange(2*m,1)\n",
    "    i = 0\n",
    "    j_ = scipy.arange(0,m)\n",
    "    M = lil_matrix(m,1)\n",
    "    M = getqbar(q,h = 1)\n",
    "    L = scipy.arange(0,n)\n",
    "    for l in L:\n",
    "        for val in j_:\n",
    "            j = 2*l + val\n",
    "            A[j, 0] = A[j,0] + M[val,0]\n",
    "            A = A.tocsr()\n",
    "\n",
    "    return(A)"
   ]
  },
  {
   "cell_type": "code",
   "execution_count": 102,
   "id": "6b4cdac2",
   "metadata": {},
   "outputs": [
    {
     "name": "stdout",
     "output_type": "stream",
     "text": [
      "  (0, 0)\t0.5\n",
      "  (1, 0)\t0.08333333333333333\n",
      "  (2, 0)\t1.0\n",
      "  (3, 0)\t0.0\n",
      "  (4, 0)\t1.0\n",
      "  (5, 0)\t0.0\n",
      "  (6, 0)\t0.5\n",
      "  (7, 0)\t-0.08333333333333333\n"
     ]
    }
   ],
   "source": [
    "print(getvq(3))"
   ]
  },
  {
   "cell_type": "markdown",
   "id": "ef7f3317",
   "metadata": {},
   "source": [
    "## Aufgabe 6"
   ]
  },
  {
   "cell_type": "markdown",
   "id": "90e607c5",
   "metadata": {},
   "source": [
    "#### get C für Nebenbedingungen"
   ]
  },
  {
   "cell_type": "code",
   "execution_count": 7,
   "id": "7451f088",
   "metadata": {},
   "outputs": [],
   "source": [
    "#z.B.\n",
    "n = 3\n",
    "m = n+1\n",
    "a_k = b_k = M_k = Q_k = 0\n",
    "B = [[0,1,a_k],\n",
    "    [0,2,b_k],\n",
    "    [n,3,M_k],\n",
    "    [n,4,Q_k]]"
   ]
  },
  {
   "cell_type": "code",
   "execution_count": 27,
   "id": "1d3cd00d",
   "metadata": {},
   "outputs": [
    {
     "name": "stdout",
     "output_type": "stream",
     "text": [
      "  (1, 0)\t1.0\n"
     ]
    }
   ],
   "source": [
    "#gegeben: n und B\n",
    "#durch B durchitterieren und Einträge mit 1 bzw. 2 finden:\n",
    "#noch bisschen hässlich glaube ich, viel Schleifenzeug\n",
    "j = l = 0\n",
    "for i in range(len(B)):\n",
    "    if B[i][1] == 1:\n",
    "        j = j+1\n",
    "    if B[i][1] == 2:\n",
    "        l = l+1\n",
    "        \n",
    "E_1 = lil_matrix((2*m,j))\n",
    "E_2 = lil_matrix((2*m,l))\n",
    "\n",
    "j = l = 0\n",
    "for i in range(len(B)):\n",
    "    k = B[i][0]\n",
    "    if B[i][1] == 1:\n",
    "        if j == 0:\n",
    "            E_1[2*k] = 1\n",
    "        if j >0:\n",
    "            E_1[2*k][j] = 1\n",
    "        j = j+1\n",
    "    if B[i][1] == 2:\n",
    "        if l == 0:\n",
    "            E_2[(2*k+1)] = 1\n",
    "        if l >0:\n",
    "            E_2[(2*k+1)][l] = 1\n",
    "        l = l+1\n",
    "print(E_2)"
   ]
  }
 ],
 "metadata": {
  "kernelspec": {
   "display_name": "Python 3 (ipykernel)",
   "language": "python",
   "name": "python3"
  },
  "language_info": {
   "codemirror_mode": {
    "name": "ipython",
    "version": 3
   },
   "file_extension": ".py",
   "mimetype": "text/x-python",
   "name": "python",
   "nbconvert_exporter": "python",
   "pygments_lexer": "ipython3",
   "version": "3.11.3"
  }
 },
 "nbformat": 4,
 "nbformat_minor": 5
}
